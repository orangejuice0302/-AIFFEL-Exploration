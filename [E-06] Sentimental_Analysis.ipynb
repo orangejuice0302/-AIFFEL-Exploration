{
 "cells": [
  {
   "cell_type": "markdown",
   "id": "85e25338",
   "metadata": {},
   "source": [
    "## 네이버 영화리뷰 텍스트 감성분석하기 🎬🙄💭"
   ]
  },
  {
   "cell_type": "markdown",
   "id": "6a4832f4",
   "metadata": {},
   "source": [
    "💬 영화리뷰 텍스트를 임베딩 레이어를 이용하여 감성 분석하는 프로젝트입니다."
   ]
  },
  {
   "cell_type": "markdown",
   "id": "e3f8a2ac",
   "metadata": {},
   "source": [
    "___\n",
    "\n",
    "### 1. 데이터 준비와 확인"
   ]
  },
  {
   "cell_type": "code",
   "execution_count": 1,
   "id": "dc3928b1",
   "metadata": {},
   "outputs": [
    {
     "name": "stdout",
     "output_type": "stream",
     "text": [
      "150000 50000\n"
     ]
    },
    {
     "data": {
      "text/html": [
       "<div>\n",
       "<style scoped>\n",
       "    .dataframe tbody tr th:only-of-type {\n",
       "        vertical-align: middle;\n",
       "    }\n",
       "\n",
       "    .dataframe tbody tr th {\n",
       "        vertical-align: top;\n",
       "    }\n",
       "\n",
       "    .dataframe thead th {\n",
       "        text-align: right;\n",
       "    }\n",
       "</style>\n",
       "<table border=\"1\" class=\"dataframe\">\n",
       "  <thead>\n",
       "    <tr style=\"text-align: right;\">\n",
       "      <th></th>\n",
       "      <th>id</th>\n",
       "      <th>document</th>\n",
       "      <th>label</th>\n",
       "    </tr>\n",
       "  </thead>\n",
       "  <tbody>\n",
       "    <tr>\n",
       "      <th>0</th>\n",
       "      <td>9976970</td>\n",
       "      <td>아 더빙.. 진짜 짜증나네요 목소리</td>\n",
       "      <td>0</td>\n",
       "    </tr>\n",
       "    <tr>\n",
       "      <th>1</th>\n",
       "      <td>3819312</td>\n",
       "      <td>흠...포스터보고 초딩영화줄....오버연기조차 가볍지 않구나</td>\n",
       "      <td>1</td>\n",
       "    </tr>\n",
       "    <tr>\n",
       "      <th>2</th>\n",
       "      <td>10265843</td>\n",
       "      <td>너무재밓었다그래서보는것을추천한다</td>\n",
       "      <td>0</td>\n",
       "    </tr>\n",
       "    <tr>\n",
       "      <th>3</th>\n",
       "      <td>9045019</td>\n",
       "      <td>교도소 이야기구먼 ..솔직히 재미는 없다..평점 조정</td>\n",
       "      <td>0</td>\n",
       "    </tr>\n",
       "    <tr>\n",
       "      <th>4</th>\n",
       "      <td>6483659</td>\n",
       "      <td>사이몬페그의 익살스런 연기가 돋보였던 영화!스파이더맨에서 늙어보이기만 했던 커스틴 ...</td>\n",
       "      <td>1</td>\n",
       "    </tr>\n",
       "  </tbody>\n",
       "</table>\n",
       "</div>"
      ],
      "text/plain": [
       "         id                                           document  label\n",
       "0   9976970                                아 더빙.. 진짜 짜증나네요 목소리      0\n",
       "1   3819312                  흠...포스터보고 초딩영화줄....오버연기조차 가볍지 않구나      1\n",
       "2  10265843                                  너무재밓었다그래서보는것을추천한다      0\n",
       "3   9045019                      교도소 이야기구먼 ..솔직히 재미는 없다..평점 조정      0\n",
       "4   6483659  사이몬페그의 익살스런 연기가 돋보였던 영화!스파이더맨에서 늙어보이기만 했던 커스틴 ...      1"
      ]
     },
     "execution_count": 1,
     "metadata": {},
     "output_type": "execute_result"
    }
   ],
   "source": [
    "import pandas as pd\n",
    "import numpy as np\n",
    "import os\n",
    "\n",
    "\n",
    "# 데이터를 읽어봅시다. \n",
    "train_data = pd.read_table('~/aiffel/sentiment_classification/data/ratings_train.txt')\n",
    "test_data = pd.read_table('~/aiffel/sentiment_classification/data/ratings_test.txt')\n",
    "\n",
    "\n",
    "print(len(train_data), len(test_data))\n",
    "train_data.head()"
   ]
  },
  {
   "cell_type": "markdown",
   "id": "8938f3d4",
   "metadata": {},
   "source": [
    "___\n",
    "\n",
    "### 2. 데이터로더 구성"
   ]
  },
  {
   "cell_type": "markdown",
   "id": "56226e5a",
   "metadata": {},
   "source": [
    "네이버 영화리뷰 데이터를 살펴보자.\n",
    "\n",
    "먼저, 중복되는 값이 있는지 본다."
   ]
  },
  {
   "cell_type": "code",
   "execution_count": 2,
   "id": "e7fbc8ee",
   "metadata": {},
   "outputs": [
    {
     "data": {
      "text/plain": [
       "146182"
      ]
     },
     "execution_count": 2,
     "metadata": {},
     "output_type": "execute_result"
    }
   ],
   "source": [
    "train_data['document'].nunique()"
   ]
  },
  {
   "cell_type": "markdown",
   "id": "63aeeb77",
   "metadata": {},
   "source": [
    "3818개의 중복 데이터가 존재한다. -> **삭제해주어야 함!**\n",
    "\n",
    "결측치가 있는지 확인해 보자."
   ]
  },
  {
   "cell_type": "code",
   "execution_count": 3,
   "id": "50f14183",
   "metadata": {},
   "outputs": [
    {
     "name": "stdout",
     "output_type": "stream",
     "text": [
      "id : 0\n",
      "document : 5\n",
      "label : 0\n"
     ]
    }
   ],
   "source": [
    "for c in train_data.columns:\n",
    "    print('{} : {}'.format(c, len(train_data.loc[pd.isnull(train_data[c]), c].values)))"
   ]
  },
  {
   "cell_type": "markdown",
   "id": "010a0623",
   "metadata": {},
   "source": [
    "`document` 열에 5개의 `null`데이터가 있다. -> **삭제해주어야 함!**"
   ]
  },
  {
   "cell_type": "code",
   "execution_count": 4,
   "id": "348e73dc",
   "metadata": {},
   "outputs": [
    {
     "data": {
      "text/plain": [
       "0         0\n",
       "1         1\n",
       "2         0\n",
       "3         0\n",
       "4         1\n",
       "         ..\n",
       "149995    0\n",
       "149996    1\n",
       "149997    0\n",
       "149998    1\n",
       "149999    0\n",
       "Name: label, Length: 150000, dtype: int64"
      ]
     },
     "execution_count": 4,
     "metadata": {},
     "output_type": "execute_result"
    }
   ],
   "source": [
    "train_data['label']"
   ]
  },
  {
   "cell_type": "code",
   "execution_count": 5,
   "id": "4260c9c7",
   "metadata": {},
   "outputs": [],
   "source": [
    "from konlpy.tag import Mecab\n",
    "import numpy as np\n",
    "from collections import Counter\n",
    "\n",
    "tokenizer = Mecab()\n",
    "stopwords = ['의','가','이','은','들','는','좀','잘','걍','과','도','를','으로','자','에','와','한','하다']\n",
    "\n",
    "def load_data(train_data, test_data, num_words=10000):\n",
    "    \n",
    "    # 데이터 중복 제거\n",
    "    train_data.drop_duplicates(['document'])\n",
    "    \n",
    "    # 결측치 제거\n",
    "    train_data = train_data.dropna(how = 'any')\n",
    "    test_data = test_data.dropna(how = 'any')\n",
    "    \n",
    "    # 토큰화(+ stopwords 제거)\n",
    "    X_train = []\n",
    "    for x in train_data['document']:\n",
    "        tokens = tokenizer.morphs(x)\n",
    "        if tokens not in stopwords:\n",
    "            X_train.append(tokens)\n",
    "    \n",
    "    X_test = []\n",
    "    for x in test_data['document']:\n",
    "        tokens = tokenizer.morphs(x)\n",
    "        if tokens not in stopwords:\n",
    "            X_test.append(tokens)\n",
    "            \n",
    "    # `word_to_index` 구성\n",
    "    words = np.concatenate(X_train).tolist()\n",
    "    counter = Counter(words)\n",
    "    counter = counter.most_common(10000-4)\n",
    "    vocab = ['<PAD>', '<BOS>', '<UNK>', '<UNUSED>'] + [key for key, _ in counter]\n",
    "    word_to_index = {word:index for index, word in enumerate(vocab)}\n",
    "\n",
    "    def wordlist_to_indexlist(wordlist):\n",
    "        return [word_to_index[word] if word in word_to_index else word_to_index['<UNK>'] for word in wordlist]\n",
    "    \n",
    "    X_train = list(map(wordlist_to_indexlist, X_train))\n",
    "    X_test = list(map(wordlist_to_indexlist, X_test))\n",
    "            \n",
    "    y_train = train_data['label']\n",
    "    \n",
    "    y_test = test_data['label']          \n",
    "    \n",
    "    \n",
    "    return X_train, y_train, X_test, y_test, word_to_index\n",
    "    \n",
    "    \n",
    "    \n",
    "X_train, y_train, X_test, y_test, word_to_index = load_data(train_data, test_data)"
   ]
  },
  {
   "cell_type": "code",
   "execution_count": 6,
   "id": "ec63c1c5",
   "metadata": {},
   "outputs": [
    {
     "name": "stdout",
     "output_type": "stream",
     "text": [
      "[43, 88, 938, 4, 4, 50, 246, 30, 44, 769]\n",
      "[748, 145]\n"
     ]
    }
   ],
   "source": [
    "print(X_train[0])\n",
    "print(X_test[0])"
   ]
  },
  {
   "cell_type": "code",
   "execution_count": 7,
   "id": "9d170a2f",
   "metadata": {},
   "outputs": [],
   "source": [
    "index_to_word = {index:word for word, index in word_to_index.items()}"
   ]
  },
  {
   "cell_type": "code",
   "execution_count": 8,
   "id": "3a02e4bd",
   "metadata": {},
   "outputs": [],
   "source": [
    "# 문장 1개를 활용할 딕셔너리와 함께 주면, 단어 인덱스 리스트 벡터로 변환해 주는 함수입니다. \n",
    "# 단, 모든 문장은 <BOS>로 시작하는 것으로 합니다. \n",
    "def get_encoded_sentence(sentence, word_to_index):\n",
    "    return [word_to_index['<BOS>']]+[word_to_index[word] if word in word_to_index else word_to_index['<UNK>'] for word in sentence.split()]\n",
    "\n",
    "# 여러 개의 문장 리스트를 한꺼번에 단어 인덱스 리스트 벡터로 encode해 주는 함수입니다. \n",
    "def get_encoded_sentences(sentences, word_to_index):\n",
    "    return [get_encoded_sentence(sentence, word_to_index) for sentence in sentences]\n",
    "\n",
    "# 숫자 벡터로 encode된 문장을 원래대로 decode하는 함수입니다. \n",
    "def get_decoded_sentence(encoded_sentence, index_to_word):\n",
    "    return ' '.join(index_to_word[index] if index in index_to_word else '<UNK>' for index in encoded_sentence[1:])  #[1:]를 통해 <BOS>를 제외\n",
    "\n",
    "# 여러 개의 숫자 벡터로 encode된 문장을 한꺼번에 원래대로 decode하는 함수입니다. \n",
    "def get_decoded_sentences(encoded_sentences, index_to_word):\n",
    "    return [get_decoded_sentence(encoded_sentence, index_to_word) for encoded_sentence in encoded_sentences]"
   ]
  },
  {
   "cell_type": "markdown",
   "id": "0ee20e1c",
   "metadata": {},
   "source": [
    "___\n",
    "\n",
    "### 3. 모델 구성을 위한 데이터 분석 및 가공"
   ]
  },
  {
   "cell_type": "markdown",
   "id": "16dc471e",
   "metadata": {},
   "source": [
    "데이터셋의 문장 길이를 파악해보자.\n",
    "\n",
    "분포를 보고 적절한 최대 문장 길이를 설정한다."
   ]
  },
  {
   "cell_type": "code",
   "execution_count": 9,
   "id": "b6184f0b",
   "metadata": {},
   "outputs": [
    {
     "name": "stdout",
     "output_type": "stream",
     "text": [
      "[43, 88, 938, 4, 4, 50, 246, 30, 44, 769]\n",
      "라벨:  0\n",
      "1번째 리뷰 문장 길이:  10\n",
      "2번째 리뷰 문장 길이:  17\n"
     ]
    }
   ],
   "source": [
    "print(X_train[0])  # 1번째 리뷰데이터\n",
    "print('라벨: ', y_train[0])  # 1번째 리뷰데이터의 라벨\n",
    "print('1번째 리뷰 문장 길이: ', len(X_train[0]))\n",
    "print('2번째 리뷰 문장 길이: ', len(X_train[1]))"
   ]
  },
  {
   "cell_type": "markdown",
   "id": "68dcca43",
   "metadata": {},
   "source": [
    "최대 문장길이를 평균 + 2\\*표준편자로 설정한다"
   ]
  },
  {
   "cell_type": "code",
   "execution_count": 10,
   "id": "09a9ec77",
   "metadata": {},
   "outputs": [
    {
     "name": "stdout",
     "output_type": "stream",
     "text": [
      "문장길이 평균 :  18.3542491699668\n",
      "문장길이 최대 :  116\n",
      "문장길이 표준편차 :  15.347552229578971\n",
      "pad_sequences maxlen :  49\n",
      "전체 문장의 0.9361724468978759%가 maxlen 설정값 이내에 포함됩니다. \n"
     ]
    }
   ],
   "source": [
    "total_data_text = list(X_train) + list(X_test)\n",
    "# 텍스트데이터 문장길이의 리스트를 생성한 후\n",
    "num_tokens = [len(tokens) for tokens in total_data_text]\n",
    "num_tokens = np.array(num_tokens)\n",
    "# 문장길이의 평균값, 최대값, 표준편차를 계산해 본다. \n",
    "print('문장길이 평균 : ', np.mean(num_tokens))\n",
    "print('문장길이 최대 : ', np.max(num_tokens))\n",
    "print('문장길이 표준편차 : ', np.std(num_tokens))\n",
    "\n",
    "# 예를들어, 최대 길이를 (평균 + 2*표준편차)로 한다면,  \n",
    "max_tokens = np.mean(num_tokens) + 2 * np.std(num_tokens)\n",
    "maxlen = int(max_tokens)\n",
    "print('pad_sequences maxlen : ', maxlen)\n",
    "print('전체 문장의 {}%가 maxlen 설정값 이내에 포함됩니다. '.format(np.sum(num_tokens < max_tokens) / len(num_tokens)))"
   ]
  },
  {
   "cell_type": "markdown",
   "id": "c1ee2d8a",
   "metadata": {},
   "source": [
    "`keras.preprocessing.sequence.pad_sequences` 을 활용한 패딩 추가"
   ]
  },
  {
   "cell_type": "code",
   "execution_count": 11,
   "id": "c7aef2c1",
   "metadata": {},
   "outputs": [
    {
     "name": "stdout",
     "output_type": "stream",
     "text": [
      "(149995, 49)\n",
      "(49997, 49)\n"
     ]
    }
   ],
   "source": [
    "import tensorflow as tf\n",
    "from tensorflow import keras\n",
    "\n",
    "X_train = tf.keras.preprocessing.sequence.pad_sequences(X_train,\n",
    "                                                        value=word_to_index[\"<PAD>\"],\n",
    "                                                        padding='pre', \n",
    "                                                        maxlen=maxlen)\n",
    "\n",
    "X_test = tf.keras.preprocessing.sequence.pad_sequences(X_test,\n",
    "                                                       value=word_to_index[\"<PAD>\"],\n",
    "                                                       padding='pre', \n",
    "                                                       maxlen=maxlen)\n",
    "\n",
    "print(X_train.shape)\n",
    "print(X_test.shape)"
   ]
  },
  {
   "cell_type": "markdown",
   "id": "75435c6a",
   "metadata": {},
   "source": [
    "___\n",
    "\n",
    "### 4. 모델 구성, 학습, 성능 평가"
   ]
  },
  {
   "cell_type": "markdown",
   "id": "92996932",
   "metadata": {},
   "source": [
    "`validation set`을 `train data`의 20%로 정한다."
   ]
  },
  {
   "cell_type": "code",
   "execution_count": 12,
   "id": "e16abfde",
   "metadata": {
    "scrolled": true
   },
   "outputs": [
    {
     "name": "stdout",
     "output_type": "stream",
     "text": [
      "119996\n",
      "29999\n"
     ]
    }
   ],
   "source": [
    "from sklearn.model_selection import train_test_split\n",
    "X_train, X_val, y_train, y_val = train_test_split(X_train,\n",
    "                                                  y_train,\n",
    "                                                  test_size=0.2,\n",
    "                                                  shuffle=True,\n",
    "                                                  random_state=34)\n",
    "\n",
    "print(len(X_train))\n",
    "print(len(X_val))"
   ]
  },
  {
   "cell_type": "markdown",
   "id": "62d265e6",
   "metadata": {},
   "source": [
    "모델을 총 3개지로 구현해 볼 것임.\n",
    "\n",
    "___\n",
    "\n",
    "### (1) RNN 모델"
   ]
  },
  {
   "cell_type": "code",
   "execution_count": 13,
   "id": "237ce7cd",
   "metadata": {},
   "outputs": [
    {
     "name": "stdout",
     "output_type": "stream",
     "text": [
      "Model: \"sequential\"\n",
      "_________________________________________________________________\n",
      "Layer (type)                 Output Shape              Param #   \n",
      "=================================================================\n",
      "embedding (Embedding)        (None, None, 32)          320000    \n",
      "_________________________________________________________________\n",
      "lstm (LSTM)                  (None, 8)                 1312      \n",
      "_________________________________________________________________\n",
      "dense (Dense)                (None, 8)                 72        \n",
      "_________________________________________________________________\n",
      "dense_1 (Dense)              (None, 1)                 9         \n",
      "=================================================================\n",
      "Total params: 321,393\n",
      "Trainable params: 321,393\n",
      "Non-trainable params: 0\n",
      "_________________________________________________________________\n"
     ]
    }
   ],
   "source": [
    "vocab_size = 10000    # 어휘 사전의 크기입니다(10,000개의 단어)\n",
    "word_vector_dim =32  # 워드 벡터의 차원 수 (변경 가능한 하이퍼파라미터)\n",
    "\n",
    "# model 설계 - 딥러닝 모델 코드를 직접 작성해 주세요.\n",
    "model = keras.Sequential()\n",
    "model.add(keras.layers.Embedding(vocab_size, word_vector_dim, input_shape=(None,)))\n",
    "model.add(keras.layers.LSTM(8))   # 가장 널리 쓰이는 RNN인 LSTM 레이어를 사용하였습니다. 이때 LSTM state 벡터의 차원수는 8로 하였습니다. (변경 가능)\n",
    "model.add(keras.layers.Dense(8, activation='relu'))\n",
    "model.add(keras.layers.Dense(1, activation='sigmoid'))  # 최종 출력은 긍정/부정을 나타내는 1dim 입니다.\n",
    "\n",
    "model.summary()"
   ]
  },
  {
   "cell_type": "markdown",
   "id": "62b8dca5",
   "metadata": {},
   "source": [
    "`InternalError: CUDA runtime implicit initialization on GPU:0 failed. Status: out of memory`라는 오류가 떠서 구글링 한 결과 GPU 메모리가 부족해서 그렇다고 한다. 아래 코드를 넣어보라고 해서 가져왔다. \n",
    "\n",
    "그래도 안돼서 다른 모델들을 넣어봤는데도 안됐다.\n",
    "\n",
    "열심히 구글링해서 이번엔 GPU 메모리를 초기화해줬다. 그래도 안됐다. \n",
    "\n",
    "**알고보니 Jupyter Notebook을 두 개 켜놔서 그런거였다...! 하나를 shutdown하니 해결됨 😇**"
   ]
  },
  {
   "cell_type": "code",
   "execution_count": 14,
   "id": "2221490d",
   "metadata": {},
   "outputs": [
    {
     "name": "stdout",
     "output_type": "stream",
     "text": [
      "Virtual devices cannot be modified after being initialized\n"
     ]
    }
   ],
   "source": [
    "gpus = tf.config.experimental.list_physical_devices('GPU') \n",
    "if gpus: # 텐서플로가 첫 번째 GPU에 1GB 메모리만 할당하도록 제한 \n",
    "    try: tf.config.experimental.set_virtual_device_configuration( gpus[0],\n",
    "                                                                 [tf.config.experimental.VirtualDeviceConfiguration(memory_limit=1024)]) \n",
    "    except RuntimeError as e: # 프로그램 시작시에 가상 장치가 설정되어야만 합니다 \n",
    "        print(e)"
   ]
  },
  {
   "cell_type": "markdown",
   "id": "61ee11b5",
   "metadata": {},
   "source": [
    "다시 RNN 모델을 가져온다.\n",
    "\n",
    "___\n",
    "\n",
    "### vocab=10000, wvd=32, LSTM layers=16, epoch=7 👉정확도=0.8481"
   ]
  },
  {
   "cell_type": "code",
   "execution_count": 15,
   "id": "4ae01747",
   "metadata": {},
   "outputs": [
    {
     "name": "stdout",
     "output_type": "stream",
     "text": [
      "Model: \"sequential_1\"\n",
      "_________________________________________________________________\n",
      "Layer (type)                 Output Shape              Param #   \n",
      "=================================================================\n",
      "embedding_1 (Embedding)      (None, None, 32)          320000    \n",
      "_________________________________________________________________\n",
      "lstm_1 (LSTM)                (None, 16)                3136      \n",
      "_________________________________________________________________\n",
      "dense_2 (Dense)              (None, 8)                 136       \n",
      "_________________________________________________________________\n",
      "dense_3 (Dense)              (None, 1)                 9         \n",
      "=================================================================\n",
      "Total params: 323,281\n",
      "Trainable params: 323,281\n",
      "Non-trainable params: 0\n",
      "_________________________________________________________________\n"
     ]
    }
   ],
   "source": [
    "vocab_size = 10000    # 어휘 사전의 크기입니다(10,000개의 단어)\n",
    "word_vector_dim =32  # 워드 벡터의 차원 수 (변경 가능한 하이퍼파라미터)\n",
    "\n",
    "# model 설계 - 딥러닝 모델 코드를 직접 작성해 주세요.\n",
    "model = keras.Sequential()\n",
    "model.add(keras.layers.Embedding(vocab_size, word_vector_dim, input_shape=(None,)))\n",
    "model.add(keras.layers.LSTM(16))   \n",
    "model.add(keras.layers.Dense(8, activation='relu'))\n",
    "model.add(keras.layers.Dense(1, activation='sigmoid'))  # 최종 출력은 긍정/부정을 나타내는 1dim 입니다.\n",
    "\n",
    "model.summary()"
   ]
  },
  {
   "cell_type": "code",
   "execution_count": 16,
   "id": "7c2d745b",
   "metadata": {
    "scrolled": false
   },
   "outputs": [
    {
     "name": "stdout",
     "output_type": "stream",
     "text": [
      "Epoch 1/7\n",
      "235/235 [==============================] - 5s 8ms/step - loss: 0.4736 - accuracy: 0.7849 - val_loss: 0.3606 - val_accuracy: 0.8458\n",
      "Epoch 2/7\n",
      "235/235 [==============================] - 1s 6ms/step - loss: 0.3339 - accuracy: 0.8600 - val_loss: 0.3441 - val_accuracy: 0.8524\n",
      "Epoch 3/7\n",
      "235/235 [==============================] - 1s 6ms/step - loss: 0.3104 - accuracy: 0.8705 - val_loss: 0.3425 - val_accuracy: 0.8544\n",
      "Epoch 4/7\n",
      "235/235 [==============================] - 1s 6ms/step - loss: 0.2973 - accuracy: 0.8765 - val_loss: 0.3422 - val_accuracy: 0.8525\n",
      "Epoch 5/7\n",
      "235/235 [==============================] - 1s 6ms/step - loss: 0.2840 - accuracy: 0.8824 - val_loss: 0.3456 - val_accuracy: 0.8513\n",
      "Epoch 6/7\n",
      "235/235 [==============================] - 1s 6ms/step - loss: 0.2715 - accuracy: 0.8878 - val_loss: 0.3429 - val_accuracy: 0.8528\n",
      "Epoch 7/7\n",
      "235/235 [==============================] - 1s 6ms/step - loss: 0.2589 - accuracy: 0.8944 - val_loss: 0.3525 - val_accuracy: 0.8514\n"
     ]
    }
   ],
   "source": [
    "model.compile(optimizer='adam',\n",
    "              loss='binary_crossentropy',\n",
    "              metrics=['accuracy'])\n",
    "              \n",
    "epochs=7\n",
    "\n",
    "history = model.fit(X_train,\n",
    "                    y_train,\n",
    "                    epochs=epochs,\n",
    "                    batch_size=512,\n",
    "                    validation_data=(X_val, y_val),\n",
    "                    verbose=1)"
   ]
  },
  {
   "cell_type": "code",
   "execution_count": 17,
   "id": "040cd86a",
   "metadata": {},
   "outputs": [
    {
     "name": "stdout",
     "output_type": "stream",
     "text": [
      "1563/1563 - 3s - loss: 0.3588 - accuracy: 0.8483\n",
      "[0.35875317454338074, 0.8483108878135681]\n"
     ]
    }
   ],
   "source": [
    "results = model.evaluate(X_test,  y_test, verbose=2)\n",
    "\n",
    "print(results)"
   ]
  },
  {
   "cell_type": "code",
   "execution_count": 18,
   "id": "50bed21e",
   "metadata": {},
   "outputs": [
    {
     "name": "stdout",
     "output_type": "stream",
     "text": [
      "dict_keys(['loss', 'accuracy', 'val_loss', 'val_accuracy'])\n"
     ]
    },
    {
     "data": {
      "image/png": "[encoded data removed]",
      "text/plain": [
       "<Figure size 432x288 with 1 Axes>"
      ]
     },
     "metadata": {
      "needs_background": "light"
     },
     "output_type": "display_data"
    }
   ],
   "source": [
    "history_dict = history.history\n",
    "print(history_dict.keys()) # epoch에 따른 그래프를 그려볼 수 있는 항목들\n",
    "\n",
    "import matplotlib.pyplot as plt\n",
    "\n",
    "acc = history_dict['accuracy']\n",
    "val_acc = history_dict['val_accuracy']\n",
    "loss = history_dict['loss']\n",
    "val_loss = history_dict['val_loss']\n",
    "\n",
    "epochs = range(1, len(acc) + 1)\n",
    "\n",
    "# \"bo\"는 \"파란색 점\"입니다\n",
    "plt.plot(epochs, loss, 'bo', label='Training loss')\n",
    "# b는 \"파란 실선\"입니다\n",
    "plt.plot(epochs, val_loss, 'b', label='Validation loss')\n",
    "plt.title('Training and validation loss')\n",
    "plt.xlabel('Epochs')\n",
    "plt.ylabel('Loss')\n",
    "plt.legend()\n",
    "\n",
    "plt.show()"
   ]
  },
  {
   "cell_type": "code",
   "execution_count": 19,
   "id": "a783e5bc",
   "metadata": {
    "scrolled": true
   },
   "outputs": [
    {
     "data": {
      "image/png": "[encoded data removed]",
      "text/plain": [
       "<Figure size 432x288 with 1 Axes>"
      ]
     },
     "metadata": {
      "needs_background": "light"
     },
     "output_type": "display_data"
    }
   ],
   "source": [
    "plt.clf()   # 그림을 초기화합니다\n",
    "\n",
    "plt.plot(epochs, acc, 'bo', label='Training acc')\n",
    "plt.plot(epochs, val_acc, 'b', label='Validation acc')\n",
    "plt.title('Training and validation accuracy')\n",
    "plt.xlabel('Epochs')\n",
    "plt.ylabel('Accuracy')\n",
    "plt.legend()\n",
    "\n",
    "plt.show()"
   ]
  },
  {
   "cell_type": "markdown",
   "id": "9910cc79",
   "metadata": {},
   "source": [
    "첫번째로 설계한 모델의 경우 에포크의 값이 작을수록 `val_acc`가 높게 나왔다. 큰 차이는 아니어서 에포크값을 조정하진 않았고, 다음 모델을 학습시켜봤다."
   ]
  },
  {
   "cell_type": "markdown",
   "id": "03aa1a9a",
   "metadata": {},
   "source": [
    "___"
   ]
  },
  {
   "cell_type": "markdown",
   "id": "5042a1cc",
   "metadata": {},
   "source": [
    "### (2) 1-D CNN 모델"
   ]
  },
  {
   "cell_type": "markdown",
   "id": "e3d2c95c",
   "metadata": {},
   "source": [
    "### vocab=10000, wvd=32, Conv1Dlayers=16, epoch=10 👉정확도=0.7794"
   ]
  },
  {
   "cell_type": "code",
   "execution_count": 20,
   "id": "516c0da8",
   "metadata": {},
   "outputs": [
    {
     "name": "stdout",
     "output_type": "stream",
     "text": [
      "Model: \"sequential_2\"\n",
      "_________________________________________________________________\n",
      "Layer (type)                 Output Shape              Param #   \n",
      "=================================================================\n",
      "embedding_2 (Embedding)      (None, None, 32)          320000    \n",
      "_________________________________________________________________\n",
      "conv1d (Conv1D)              (None, None, 16)          3600      \n",
      "_________________________________________________________________\n",
      "max_pooling1d (MaxPooling1D) (None, None, 16)          0         \n",
      "_________________________________________________________________\n",
      "conv1d_1 (Conv1D)            (None, None, 16)          1808      \n",
      "_________________________________________________________________\n",
      "global_max_pooling1d (Global (None, 16)                0         \n",
      "_________________________________________________________________\n",
      "dense_4 (Dense)              (None, 8)                 136       \n",
      "_________________________________________________________________\n",
      "dense_5 (Dense)              (None, 1)                 9         \n",
      "=================================================================\n",
      "Total params: 325,553\n",
      "Trainable params: 325,553\n",
      "Non-trainable params: 0\n",
      "_________________________________________________________________\n"
     ]
    }
   ],
   "source": [
    "vocab_size = 10000    # 어휘 사전의 크기입니다(10,000개의 단어)\n",
    "word_vector_dim =32  # 워드 벡터의 차원 수 (변경 가능한 하이퍼파라미터)\n",
    "\n",
    "# model 설계 - 딥러닝 모델 코드를 직접 작성해 주세요.\n",
    "model = tf.keras.Sequential()\n",
    "model.add(tf.keras.layers.Embedding(vocab_size, word_vector_dim, input_shape=(None,)))\n",
    "model.add(tf.keras.layers.Conv1D(16, 7, activation='relu'))\n",
    "model.add(tf.keras.layers.MaxPooling1D(5))\n",
    "model.add(tf.keras.layers.Conv1D(16, 7, activation='relu'))\n",
    "model.add(tf.keras.layers.GlobalMaxPooling1D())\n",
    "model.add(tf.keras.layers.Dense(8, activation='relu'))\n",
    "model.add(tf.keras.layers.Dense(1, activation='sigmoid'))  # 최종 출력은 긍정/부정을 나타내는 1dim 입니다.\n",
    "\n",
    "model.summary()"
   ]
  },
  {
   "cell_type": "code",
   "execution_count": 21,
   "id": "9dca4be6",
   "metadata": {
    "scrolled": false
   },
   "outputs": [
    {
     "name": "stdout",
     "output_type": "stream",
     "text": [
      "Epoch 1/10\n",
      "235/235 [==============================] - 3s 6ms/step - loss: 0.5481 - accuracy: 0.6967 - val_loss: 0.4326 - val_accuracy: 0.7887\n",
      "Epoch 2/10\n",
      "235/235 [==============================] - 1s 5ms/step - loss: 0.3978 - accuracy: 0.8120 - val_loss: 0.4160 - val_accuracy: 0.8005\n",
      "Epoch 3/10\n",
      "235/235 [==============================] - 1s 5ms/step - loss: 0.3600 - accuracy: 0.8330 - val_loss: 0.4209 - val_accuracy: 0.8000\n",
      "Epoch 4/10\n",
      "235/235 [==============================] - 1s 5ms/step - loss: 0.3225 - accuracy: 0.8520 - val_loss: 0.4324 - val_accuracy: 0.7967\n",
      "Epoch 5/10\n",
      "235/235 [==============================] - 1s 5ms/step - loss: 0.2818 - accuracy: 0.8741 - val_loss: 0.4555 - val_accuracy: 0.7952\n",
      "Epoch 6/10\n",
      "235/235 [==============================] - 1s 5ms/step - loss: 0.2387 - accuracy: 0.8949 - val_loss: 0.4992 - val_accuracy: 0.7926\n",
      "Epoch 7/10\n",
      "235/235 [==============================] - 1s 5ms/step - loss: 0.2022 - accuracy: 0.9116 - val_loss: 0.5446 - val_accuracy: 0.7894\n",
      "Epoch 8/10\n",
      "235/235 [==============================] - 1s 5ms/step - loss: 0.1736 - accuracy: 0.9226 - val_loss: 0.6020 - val_accuracy: 0.7806\n",
      "Epoch 9/10\n",
      "235/235 [==============================] - 1s 5ms/step - loss: 0.1503 - accuracy: 0.9328 - val_loss: 0.6736 - val_accuracy: 0.7793\n",
      "Epoch 10/10\n",
      "235/235 [==============================] - 1s 5ms/step - loss: 0.1338 - accuracy: 0.9393 - val_loss: 0.7260 - val_accuracy: 0.7778\n"
     ]
    }
   ],
   "source": [
    "model.compile(optimizer='adam',\n",
    "              loss='binary_crossentropy',\n",
    "              metrics=['accuracy'])\n",
    "              \n",
    "epochs=10\n",
    "\n",
    "history = model.fit(X_train,\n",
    "                    y_train,\n",
    "                    epochs=epochs,\n",
    "                    batch_size=512,\n",
    "                    validation_data=(X_val, y_val),\n",
    "                    verbose=1)"
   ]
  },
  {
   "cell_type": "code",
   "execution_count": 22,
   "id": "5f8dcbaa",
   "metadata": {},
   "outputs": [
    {
     "name": "stdout",
     "output_type": "stream",
     "text": [
      "1563/1563 - 3s - loss: 0.7393 - accuracy: 0.7752\n",
      "[0.7393388748168945, 0.7752465009689331]\n"
     ]
    }
   ],
   "source": [
    "results = model.evaluate(X_test,  y_test, verbose=2)\n",
    "\n",
    "print(results)"
   ]
  },
  {
   "cell_type": "code",
   "execution_count": 23,
   "id": "20d352d2",
   "metadata": {},
   "outputs": [
    {
     "name": "stdout",
     "output_type": "stream",
     "text": [
      "dict_keys(['loss', 'accuracy', 'val_loss', 'val_accuracy'])\n"
     ]
    },
    {
     "data": {
      "image/png": "[encoded data removed]",
      "text/plain": [
       "<Figure size 432x288 with 1 Axes>"
      ]
     },
     "metadata": {
      "needs_background": "light"
     },
     "output_type": "display_data"
    }
   ],
   "source": [
    "history_dict = history.history\n",
    "print(history_dict.keys()) # epoch에 따른 그래프를 그려볼 수 있는 항목들\n",
    "\n",
    "import matplotlib.pyplot as plt\n",
    "\n",
    "acc = history_dict['accuracy']\n",
    "val_acc = history_dict['val_accuracy']\n",
    "loss = history_dict['loss']\n",
    "val_loss = history_dict['val_loss']\n",
    "\n",
    "epochs = range(1, len(acc) + 1)\n",
    "\n",
    "# \"bo\"는 \"파란색 점\"입니다\n",
    "plt.plot(epochs, loss, 'bo', label='Training loss')\n",
    "# b는 \"파란 실선\"입니다\n",
    "plt.plot(epochs, val_loss, 'b', label='Validation loss')\n",
    "plt.title('Training and validation loss')\n",
    "plt.xlabel('Epochs')\n",
    "plt.ylabel('Loss')\n",
    "plt.legend()\n",
    "\n",
    "plt.show()"
   ]
  },
  {
   "cell_type": "code",
   "execution_count": 24,
   "id": "e2f9c83c",
   "metadata": {
    "scrolled": true
   },
   "outputs": [
    {
     "data": {
      "image/png": "[encoded data removed]",
      "text/plain": [
       "<Figure size 432x288 with 1 Axes>"
      ]
     },
     "metadata": {
      "needs_background": "light"
     },
     "output_type": "display_data"
    }
   ],
   "source": [
    "plt.clf()   # 그림을 초기화합니다\n",
    "\n",
    "plt.plot(epochs, acc, 'bo', label='Training acc')\n",
    "plt.plot(epochs, val_acc, 'b', label='Validation acc')\n",
    "plt.title('Training and validation accuracy')\n",
    "plt.xlabel('Epochs')\n",
    "plt.ylabel('Accuracy')\n",
    "plt.legend()\n",
    "\n",
    "plt.show()"
   ]
  },
  {
   "cell_type": "markdown",
   "id": "fef1cc85",
   "metadata": {},
   "source": [
    "이번에도 에포크의 값이 작을수록 `val_acc`가 높게 나왔다. 하이퍼 파라미터를 조정해서 다시 1-D CNN 모델을 학습시켰다."
   ]
  },
  {
   "cell_type": "markdown",
   "id": "12dd1d13",
   "metadata": {},
   "source": [
    "___"
   ]
  },
  {
   "cell_type": "markdown",
   "id": "71f58cac",
   "metadata": {},
   "source": [
    "### vocab=10000, wvd=64, Conv1Dlayers=32, epoch=10 👉정확도=0.7781"
   ]
  },
  {
   "cell_type": "code",
   "execution_count": 25,
   "id": "4aa54bdf",
   "metadata": {},
   "outputs": [
    {
     "name": "stdout",
     "output_type": "stream",
     "text": [
      "Model: \"sequential_3\"\n",
      "_________________________________________________________________\n",
      "Layer (type)                 Output Shape              Param #   \n",
      "=================================================================\n",
      "embedding_3 (Embedding)      (None, None, 64)          640000    \n",
      "_________________________________________________________________\n",
      "conv1d_2 (Conv1D)            (None, None, 32)          14368     \n",
      "_________________________________________________________________\n",
      "max_pooling1d_1 (MaxPooling1 (None, None, 32)          0         \n",
      "_________________________________________________________________\n",
      "conv1d_3 (Conv1D)            (None, None, 32)          7200      \n",
      "_________________________________________________________________\n",
      "global_max_pooling1d_1 (Glob (None, 32)                0         \n",
      "_________________________________________________________________\n",
      "dense_6 (Dense)              (None, 8)                 264       \n",
      "_________________________________________________________________\n",
      "dense_7 (Dense)              (None, 1)                 9         \n",
      "=================================================================\n",
      "Total params: 661,841\n",
      "Trainable params: 661,841\n",
      "Non-trainable params: 0\n",
      "_________________________________________________________________\n"
     ]
    }
   ],
   "source": [
    "vocab_size = 10000    # 어휘 사전의 크기입니다(10,000개의 단어)\n",
    "word_vector_dim =64  # 워드 벡터의 차원 수 (변경 가능한 하이퍼파라미터)\n",
    "\n",
    "# model 설계 - 딥러닝 모델 코드를 직접 작성해 주세요.\n",
    "model = tf.keras.Sequential()\n",
    "model.add(tf.keras.layers.Embedding(vocab_size, word_vector_dim, input_shape=(None,)))\n",
    "model.add(tf.keras.layers.Conv1D(32, 7, activation='relu'))\n",
    "model.add(tf.keras.layers.MaxPooling1D(5))\n",
    "model.add(tf.keras.layers.Conv1D(32, 7, activation='relu'))\n",
    "model.add(tf.keras.layers.GlobalMaxPooling1D())\n",
    "model.add(tf.keras.layers.Dense(8, activation='relu'))\n",
    "model.add(tf.keras.layers.Dense(1, activation='sigmoid'))  # 최종 출력은 긍정/부정을 나타내는 1dim 입니다.\n",
    "\n",
    "model.summary()"
   ]
  },
  {
   "cell_type": "code",
   "execution_count": 26,
   "id": "75a9029e",
   "metadata": {
    "scrolled": false
   },
   "outputs": [
    {
     "name": "stdout",
     "output_type": "stream",
     "text": [
      "Epoch 1/10\n",
      "235/235 [==============================] - 3s 7ms/step - loss: 0.5211 - accuracy: 0.7247 - val_loss: 0.4238 - val_accuracy: 0.7949\n",
      "Epoch 2/10\n",
      "235/235 [==============================] - 1s 6ms/step - loss: 0.3874 - accuracy: 0.8170 - val_loss: 0.4101 - val_accuracy: 0.8017\n",
      "Epoch 3/10\n",
      "235/235 [==============================] - 1s 6ms/step - loss: 0.3402 - accuracy: 0.8434 - val_loss: 0.4198 - val_accuracy: 0.7973\n",
      "Epoch 4/10\n",
      "235/235 [==============================] - 1s 5ms/step - loss: 0.2847 - accuracy: 0.8718 - val_loss: 0.4423 - val_accuracy: 0.7988\n",
      "Epoch 5/10\n",
      "235/235 [==============================] - 1s 6ms/step - loss: 0.2254 - accuracy: 0.9009 - val_loss: 0.4922 - val_accuracy: 0.7936\n",
      "Epoch 6/10\n",
      "235/235 [==============================] - 1s 5ms/step - loss: 0.1752 - accuracy: 0.9216 - val_loss: 0.5733 - val_accuracy: 0.7911\n",
      "Epoch 7/10\n",
      "235/235 [==============================] - 1s 5ms/step - loss: 0.1393 - accuracy: 0.9364 - val_loss: 0.6523 - val_accuracy: 0.7867\n",
      "Epoch 8/10\n",
      "235/235 [==============================] - 1s 5ms/step - loss: 0.1170 - accuracy: 0.9453 - val_loss: 0.7252 - val_accuracy: 0.7875\n",
      "Epoch 9/10\n",
      "235/235 [==============================] - 1s 6ms/step - loss: 0.1037 - accuracy: 0.9496 - val_loss: 0.8533 - val_accuracy: 0.7824\n",
      "Epoch 10/10\n",
      "235/235 [==============================] - 1s 5ms/step - loss: 0.0946 - accuracy: 0.9530 - val_loss: 0.8997 - val_accuracy: 0.7806\n"
     ]
    }
   ],
   "source": [
    "model.compile(optimizer='adam',\n",
    "              loss='binary_crossentropy',\n",
    "              metrics=['accuracy'])\n",
    "              \n",
    "epochs=10\n",
    "\n",
    "history = model.fit(X_train,\n",
    "                    y_train,\n",
    "                    epochs=epochs,\n",
    "                    batch_size=512,\n",
    "                    validation_data=(X_val, y_val),\n",
    "                    verbose=1)"
   ]
  },
  {
   "cell_type": "code",
   "execution_count": 27,
   "id": "7554d656",
   "metadata": {},
   "outputs": [
    {
     "name": "stdout",
     "output_type": "stream",
     "text": [
      "1563/1563 - 3s - loss: 0.9155 - accuracy: 0.7815\n",
      "[0.9154561758041382, 0.7815068960189819]\n"
     ]
    }
   ],
   "source": [
    "results = model.evaluate(X_test,  y_test, verbose=2)\n",
    "\n",
    "print(results)"
   ]
  },
  {
   "cell_type": "code",
   "execution_count": 28,
   "id": "abcbf72b",
   "metadata": {},
   "outputs": [
    {
     "name": "stdout",
     "output_type": "stream",
     "text": [
      "dict_keys(['loss', 'accuracy', 'val_loss', 'val_accuracy'])\n"
     ]
    },
    {
     "data": {
      "image/png": "[encoded data removed]",
      "text/plain": [
       "<Figure size 432x288 with 1 Axes>"
      ]
     },
     "metadata": {
      "needs_background": "light"
     },
     "output_type": "display_data"
    }
   ],
   "source": [
    "history_dict = history.history\n",
    "print(history_dict.keys()) # epoch에 따른 그래프를 그려볼 수 있는 항목들\n",
    "\n",
    "import matplotlib.pyplot as plt\n",
    "\n",
    "acc = history_dict['accuracy']\n",
    "val_acc = history_dict['val_accuracy']\n",
    "loss = history_dict['loss']\n",
    "val_loss = history_dict['val_loss']\n",
    "\n",
    "epochs = range(1, len(acc) + 1)\n",
    "\n",
    "# \"bo\"는 \"파란색 점\"입니다\n",
    "plt.plot(epochs, loss, 'bo', label='Training loss')\n",
    "# b는 \"파란 실선\"입니다\n",
    "plt.plot(epochs, val_loss, 'b', label='Validation loss')\n",
    "plt.title('Training and validation loss')\n",
    "plt.xlabel('Epochs')\n",
    "plt.ylabel('Loss')\n",
    "plt.legend()\n",
    "\n",
    "plt.show()"
   ]
  },
  {
   "cell_type": "code",
   "execution_count": 29,
   "id": "bab5bc46",
   "metadata": {
    "scrolled": true
   },
   "outputs": [
    {
     "data": {
      "image/png": "[encoded data removed]",
      "text/plain": [
       "<Figure size 432x288 with 1 Axes>"
      ]
     },
     "metadata": {
      "needs_background": "light"
     },
     "output_type": "display_data"
    }
   ],
   "source": [
    "plt.clf()   # 그림을 초기화합니다\n",
    "\n",
    "plt.plot(epochs, acc, 'bo', label='Training acc')\n",
    "plt.plot(epochs, val_acc, 'b', label='Validation acc')\n",
    "plt.title('Training and validation accuracy')\n",
    "plt.xlabel('Epochs')\n",
    "plt.ylabel('Accuracy')\n",
    "plt.legend()\n",
    "\n",
    "plt.show()"
   ]
  },
  {
   "cell_type": "markdown",
   "id": "619fe725",
   "metadata": {},
   "source": [
    "에포크값은 여전히 작을수록 좋다. 모델이 복잡해진다고해서 성능이 좋아지진 않았다. 그럼 반대로 좀 더 간단하게 만들어 보자."
   ]
  },
  {
   "cell_type": "markdown",
   "id": "b34cd6d9",
   "metadata": {},
   "source": [
    "___"
   ]
  },
  {
   "cell_type": "markdown",
   "id": "543ff5a4",
   "metadata": {},
   "source": [
    "### vocab=10000, wvd=16, Conv1Dlayers=8, epoch=10 👉정확도=0.7765"
   ]
  },
  {
   "cell_type": "code",
   "execution_count": 30,
   "id": "c444443c",
   "metadata": {},
   "outputs": [
    {
     "name": "stdout",
     "output_type": "stream",
     "text": [
      "Model: \"sequential_4\"\n",
      "_________________________________________________________________\n",
      "Layer (type)                 Output Shape              Param #   \n",
      "=================================================================\n",
      "embedding_4 (Embedding)      (None, None, 16)          160000    \n",
      "_________________________________________________________________\n",
      "conv1d_4 (Conv1D)            (None, None, 8)           904       \n",
      "_________________________________________________________________\n",
      "max_pooling1d_2 (MaxPooling1 (None, None, 8)           0         \n",
      "_________________________________________________________________\n",
      "conv1d_5 (Conv1D)            (None, None, 8)           456       \n",
      "_________________________________________________________________\n",
      "global_max_pooling1d_2 (Glob (None, 8)                 0         \n",
      "_________________________________________________________________\n",
      "dense_8 (Dense)              (None, 8)                 72        \n",
      "_________________________________________________________________\n",
      "dense_9 (Dense)              (None, 1)                 9         \n",
      "=================================================================\n",
      "Total params: 161,441\n",
      "Trainable params: 161,441\n",
      "Non-trainable params: 0\n",
      "_________________________________________________________________\n"
     ]
    }
   ],
   "source": [
    "vocab_size = 10000    # 어휘 사전의 크기입니다(10,000개의 단어)\n",
    "word_vector_dim =16  # 워드 벡터의 차원 수 (변경 가능한 하이퍼파라미터)\n",
    "\n",
    "# model 설계 - 딥러닝 모델 코드를 직접 작성해 주세요.\n",
    "model = tf.keras.Sequential()\n",
    "model.add(tf.keras.layers.Embedding(vocab_size, word_vector_dim, input_shape=(None,)))\n",
    "model.add(tf.keras.layers.Conv1D(8, 7, activation='relu'))\n",
    "model.add(tf.keras.layers.MaxPooling1D(5))\n",
    "model.add(tf.keras.layers.Conv1D(8, 7, activation='relu'))\n",
    "model.add(tf.keras.layers.GlobalMaxPooling1D())\n",
    "model.add(tf.keras.layers.Dense(8, activation='relu'))\n",
    "model.add(tf.keras.layers.Dense(1, activation='sigmoid'))  # 최종 출력은 긍정/부정을 나타내는 1dim 입니다.\n",
    "\n",
    "model.summary()"
   ]
  },
  {
   "cell_type": "code",
   "execution_count": 31,
   "id": "838eb853",
   "metadata": {
    "scrolled": false
   },
   "outputs": [
    {
     "name": "stdout",
     "output_type": "stream",
     "text": [
      "Epoch 1/10\n",
      "235/235 [==============================] - 2s 6ms/step - loss: 0.5683 - accuracy: 0.7040 - val_loss: 0.4449 - val_accuracy: 0.7825\n",
      "Epoch 2/10\n",
      "235/235 [==============================] - 1s 5ms/step - loss: 0.4090 - accuracy: 0.8063 - val_loss: 0.4237 - val_accuracy: 0.7978\n",
      "Epoch 3/10\n",
      "235/235 [==============================] - 1s 5ms/step - loss: 0.3759 - accuracy: 0.8244 - val_loss: 0.4220 - val_accuracy: 0.7986\n",
      "Epoch 4/10\n",
      "235/235 [==============================] - 1s 5ms/step - loss: 0.3506 - accuracy: 0.8379 - val_loss: 0.4278 - val_accuracy: 0.7936\n",
      "Epoch 5/10\n",
      "235/235 [==============================] - 1s 5ms/step - loss: 0.3255 - accuracy: 0.8515 - val_loss: 0.4417 - val_accuracy: 0.7932\n",
      "Epoch 6/10\n",
      "235/235 [==============================] - 1s 5ms/step - loss: 0.2988 - accuracy: 0.8655 - val_loss: 0.4599 - val_accuracy: 0.7916\n",
      "Epoch 7/10\n",
      "235/235 [==============================] - 1s 5ms/step - loss: 0.2719 - accuracy: 0.8789 - val_loss: 0.4862 - val_accuracy: 0.7873\n",
      "Epoch 8/10\n",
      "235/235 [==============================] - 1s 5ms/step - loss: 0.2457 - accuracy: 0.8913 - val_loss: 0.5282 - val_accuracy: 0.7803\n",
      "Epoch 9/10\n",
      "235/235 [==============================] - 1s 5ms/step - loss: 0.2225 - accuracy: 0.9024 - val_loss: 0.5527 - val_accuracy: 0.7782\n",
      "Epoch 10/10\n",
      "235/235 [==============================] - 1s 5ms/step - loss: 0.2019 - accuracy: 0.9111 - val_loss: 0.5947 - val_accuracy: 0.7796\n"
     ]
    }
   ],
   "source": [
    "model.compile(optimizer='adam',\n",
    "              loss='binary_crossentropy',\n",
    "              metrics=['accuracy'])\n",
    "              \n",
    "epochs=10\n",
    "\n",
    "history = model.fit(X_train,\n",
    "                    y_train,\n",
    "                    epochs=epochs,\n",
    "                    batch_size=512,\n",
    "                    validation_data=(X_val, y_val),\n",
    "                    verbose=1)"
   ]
  },
  {
   "cell_type": "code",
   "execution_count": 32,
   "id": "f53c1681",
   "metadata": {},
   "outputs": [
    {
     "name": "stdout",
     "output_type": "stream",
     "text": [
      "1563/1563 - 3s - loss: 0.5963 - accuracy: 0.7798\n",
      "[0.5962512493133545, 0.7798267602920532]\n"
     ]
    }
   ],
   "source": [
    "results = model.evaluate(X_test,  y_test, verbose=2)\n",
    "\n",
    "print(results)"
   ]
  },
  {
   "cell_type": "code",
   "execution_count": 33,
   "id": "c37378eb",
   "metadata": {},
   "outputs": [
    {
     "name": "stdout",
     "output_type": "stream",
     "text": [
      "dict_keys(['loss', 'accuracy', 'val_loss', 'val_accuracy'])\n"
     ]
    },
    {
     "data": {
      "image/png": "[encoded data removed]",
      "text/plain": [
       "<Figure size 432x288 with 1 Axes>"
      ]
     },
     "metadata": {
      "needs_background": "light"
     },
     "output_type": "display_data"
    }
   ],
   "source": [
    "history_dict = history.history\n",
    "print(history_dict.keys()) # epoch에 따른 그래프를 그려볼 수 있는 항목들\n",
    "\n",
    "import matplotlib.pyplot as plt\n",
    "\n",
    "acc = history_dict['accuracy']\n",
    "val_acc = history_dict['val_accuracy']\n",
    "loss = history_dict['loss']\n",
    "val_loss = history_dict['val_loss']\n",
    "\n",
    "epochs = range(1, len(acc) + 1)\n",
    "\n",
    "# \"bo\"는 \"파란색 점\"입니다\n",
    "plt.plot(epochs, loss, 'bo', label='Training loss')\n",
    "# b는 \"파란 실선\"입니다\n",
    "plt.plot(epochs, val_loss, 'b', label='Validation loss')\n",
    "plt.title('Training and validation loss')\n",
    "plt.xlabel('Epochs')\n",
    "plt.ylabel('Loss')\n",
    "plt.legend()\n",
    "\n",
    "plt.show()"
   ]
  },
  {
   "cell_type": "code",
   "execution_count": 34,
   "id": "bf9a1872",
   "metadata": {
    "scrolled": false
   },
   "outputs": [
    {
     "data": {
      "image/png": "[encoded data removed]",
      "text/plain": [
       "<Figure size 432x288 with 1 Axes>"
      ]
     },
     "metadata": {
      "needs_background": "light"
     },
     "output_type": "display_data"
    }
   ],
   "source": [
    "plt.clf()   # 그림을 초기화합니다\n",
    "\n",
    "plt.plot(epochs, acc, 'bo', label='Training acc')\n",
    "plt.plot(epochs, val_acc, 'b', label='Validation acc')\n",
    "plt.title('Training and validation accuracy')\n",
    "plt.xlabel('Epochs')\n",
    "plt.ylabel('Accuracy')\n",
    "plt.legend()\n",
    "\n",
    "plt.show()"
   ]
  },
  {
   "cell_type": "markdown",
   "id": "a31b0086",
   "metadata": {},
   "source": [
    "1-D CNN모델은 RNN에 비해서 전반적으로 성능이 잘 나오지 않는 것 같다."
   ]
  },
  {
   "cell_type": "markdown",
   "id": "87cf9174",
   "metadata": {},
   "source": [
    "___"
   ]
  },
  {
   "cell_type": "markdown",
   "id": "58581c45",
   "metadata": {},
   "source": [
    "### (3) `GlobalMaxPooling1D()`를 이용한 CNN"
   ]
  },
  {
   "cell_type": "markdown",
   "id": "917f3d2c",
   "metadata": {},
   "source": [
    "### vocab=10000, wvd=32, epoch=10 👉정확도=0.8386"
   ]
  },
  {
   "cell_type": "code",
   "execution_count": 35,
   "id": "af5d9d93",
   "metadata": {},
   "outputs": [
    {
     "name": "stdout",
     "output_type": "stream",
     "text": [
      "Model: \"sequential_6\"\n",
      "_________________________________________________________________\n",
      "Layer (type)                 Output Shape              Param #   \n",
      "=================================================================\n",
      "embedding_5 (Embedding)      (None, None, 32)          320000    \n",
      "_________________________________________________________________\n",
      "global_max_pooling1d_3 (Glob (None, 32)                0         \n",
      "_________________________________________________________________\n",
      "dense_10 (Dense)             (None, 8)                 264       \n",
      "_________________________________________________________________\n",
      "dense_11 (Dense)             (None, 1)                 9         \n",
      "=================================================================\n",
      "Total params: 320,273\n",
      "Trainable params: 320,273\n",
      "Non-trainable params: 0\n",
      "_________________________________________________________________\n"
     ]
    }
   ],
   "source": [
    "vocab_size = 10000    # 어휘 사전의 크기입니다(10,000개의 단어)\n",
    "word_vector_dim =32  # 워드 벡터의 차원 수 (변경 가능한 하이퍼파라미터)\n",
    "\n",
    "# model 설계 - 딥러닝 모델 코드를 직접 작성해 주세요.\n",
    "model = tf.keras.Sequential()\n",
    "model = tf.keras.Sequential()\n",
    "model.add(tf.keras.layers.Embedding(vocab_size, word_vector_dim, input_shape=(None,)))\n",
    "model.add(tf.keras.layers.GlobalMaxPooling1D())\n",
    "model.add(tf.keras.layers.Dense(8, activation='relu'))\n",
    "model.add(tf.keras.layers.Dense(1, activation='sigmoid'))  # 최종 출력은 긍정/부정을 나타내는 1dim 입니다.\n",
    "\n",
    "model.summary()"
   ]
  },
  {
   "cell_type": "code",
   "execution_count": 36,
   "id": "29d8a44b",
   "metadata": {
    "scrolled": false
   },
   "outputs": [
    {
     "name": "stdout",
     "output_type": "stream",
     "text": [
      "Epoch 1/10\n",
      "235/235 [==============================] - 1s 4ms/step - loss: 0.5463 - accuracy: 0.7887 - val_loss: 0.3848 - val_accuracy: 0.8340\n",
      "Epoch 2/10\n",
      "235/235 [==============================] - 1s 4ms/step - loss: 0.3457 - accuracy: 0.8527 - val_loss: 0.3467 - val_accuracy: 0.8477\n",
      "Epoch 3/10\n",
      "235/235 [==============================] - 1s 3ms/step - loss: 0.3018 - accuracy: 0.8742 - val_loss: 0.3420 - val_accuracy: 0.8509\n",
      "Epoch 4/10\n",
      "235/235 [==============================] - 1s 4ms/step - loss: 0.2745 - accuracy: 0.8879 - val_loss: 0.3454 - val_accuracy: 0.8518\n",
      "Epoch 5/10\n",
      "235/235 [==============================] - 1s 4ms/step - loss: 0.2525 - accuracy: 0.8985 - val_loss: 0.3516 - val_accuracy: 0.8516\n",
      "Epoch 6/10\n",
      "235/235 [==============================] - 1s 3ms/step - loss: 0.2333 - accuracy: 0.9073 - val_loss: 0.3626 - val_accuracy: 0.8503\n",
      "Epoch 7/10\n",
      "235/235 [==============================] - 1s 4ms/step - loss: 0.2155 - accuracy: 0.9169 - val_loss: 0.3765 - val_accuracy: 0.8494\n",
      "Epoch 8/10\n",
      "235/235 [==============================] - 1s 3ms/step - loss: 0.2000 - accuracy: 0.9234 - val_loss: 0.3906 - val_accuracy: 0.8476\n",
      "Epoch 9/10\n",
      "235/235 [==============================] - 1s 3ms/step - loss: 0.1851 - accuracy: 0.9301 - val_loss: 0.4083 - val_accuracy: 0.8459\n",
      "Epoch 10/10\n",
      "235/235 [==============================] - 1s 4ms/step - loss: 0.1720 - accuracy: 0.9370 - val_loss: 0.4256 - val_accuracy: 0.8441\n"
     ]
    }
   ],
   "source": [
    "model.compile(optimizer='adam',\n",
    "              loss='binary_crossentropy',\n",
    "              metrics=['accuracy'])\n",
    "              \n",
    "epochs=10\n",
    "\n",
    "history = model.fit(X_train,\n",
    "                    y_train,\n",
    "                    epochs=epochs,\n",
    "                    batch_size=512,\n",
    "                    validation_data=(X_val, y_val),\n",
    "                    verbose=1)"
   ]
  },
  {
   "cell_type": "code",
   "execution_count": 37,
   "id": "cc17e531",
   "metadata": {},
   "outputs": [
    {
     "name": "stdout",
     "output_type": "stream",
     "text": [
      "1563/1563 - 2s - loss: 0.4346 - accuracy: 0.8391\n",
      "[0.434636652469635, 0.8391103744506836]\n"
     ]
    }
   ],
   "source": [
    "results = model.evaluate(X_test,  y_test, verbose=2)\n",
    "\n",
    "print(results)"
   ]
  },
  {
   "cell_type": "code",
   "execution_count": 38,
   "id": "c05fd6f2",
   "metadata": {},
   "outputs": [
    {
     "name": "stdout",
     "output_type": "stream",
     "text": [
      "dict_keys(['loss', 'accuracy', 'val_loss', 'val_accuracy'])\n"
     ]
    },
    {
     "data": {
      "image/png": "[encoded data removed]",
      "text/plain": [
       "<Figure size 432x288 with 1 Axes>"
      ]
     },
     "metadata": {
      "needs_background": "light"
     },
     "output_type": "display_data"
    }
   ],
   "source": [
    "history_dict = history.history\n",
    "print(history_dict.keys()) # epoch에 따른 그래프를 그려볼 수 있는 항목들\n",
    "\n",
    "import matplotlib.pyplot as plt\n",
    "\n",
    "acc = history_dict['accuracy']\n",
    "val_acc = history_dict['val_accuracy']\n",
    "loss = history_dict['loss']\n",
    "val_loss = history_dict['val_loss']\n",
    "\n",
    "epochs = range(1, len(acc) + 1)\n",
    "\n",
    "# \"bo\"는 \"파란색 점\"입니다\n",
    "plt.plot(epochs, loss, 'bo', label='Training loss')\n",
    "# b는 \"파란 실선\"입니다\n",
    "plt.plot(epochs, val_loss, 'b', label='Validation loss')\n",
    "plt.title('Training and validation loss')\n",
    "plt.xlabel('Epochs')\n",
    "plt.ylabel('Loss')\n",
    "plt.legend()\n",
    "\n",
    "plt.show()"
   ]
  },
  {
   "cell_type": "code",
   "execution_count": 39,
   "id": "69a88a97",
   "metadata": {
    "scrolled": false
   },
   "outputs": [
    {
     "data": {
      "image/png": "[encoded data removed]",
      "text/plain": [
       "<Figure size 432x288 with 1 Axes>"
      ]
     },
     "metadata": {
      "needs_background": "light"
     },
     "output_type": "display_data"
    }
   ],
   "source": [
    "plt.clf()   # 그림을 초기화합니다\n",
    "\n",
    "plt.plot(epochs, acc, 'bo', label='Training acc')\n",
    "plt.plot(epochs, val_acc, 'b', label='Validation acc')\n",
    "plt.title('Training and validation accuracy')\n",
    "plt.xlabel('Epochs')\n",
    "plt.ylabel('Accuracy')\n",
    "plt.legend()\n",
    "\n",
    "plt.show()"
   ]
  },
  {
   "cell_type": "markdown",
   "id": "47acb386",
   "metadata": {},
   "source": [
    "3번째 모델은 1-D CNN모델에 비해서는 성능이 괜찮은 것 같다. 하이퍼 파라미터를 조정해보자."
   ]
  },
  {
   "cell_type": "markdown",
   "id": "44e54808",
   "metadata": {},
   "source": [
    "___"
   ]
  },
  {
   "cell_type": "markdown",
   "id": "e48280f3",
   "metadata": {},
   "source": [
    "### vocab=10000, wvd=16, epoch=5 👉정확도=0.8416"
   ]
  },
  {
   "cell_type": "code",
   "execution_count": 40,
   "id": "5da6b08d",
   "metadata": {},
   "outputs": [
    {
     "name": "stdout",
     "output_type": "stream",
     "text": [
      "Model: \"sequential_8\"\n",
      "_________________________________________________________________\n",
      "Layer (type)                 Output Shape              Param #   \n",
      "=================================================================\n",
      "embedding_6 (Embedding)      (None, None, 16)          160000    \n",
      "_________________________________________________________________\n",
      "global_max_pooling1d_4 (Glob (None, 16)                0         \n",
      "_________________________________________________________________\n",
      "dense_12 (Dense)             (None, 8)                 136       \n",
      "_________________________________________________________________\n",
      "dense_13 (Dense)             (None, 1)                 9         \n",
      "=================================================================\n",
      "Total params: 160,145\n",
      "Trainable params: 160,145\n",
      "Non-trainable params: 0\n",
      "_________________________________________________________________\n"
     ]
    }
   ],
   "source": [
    "vocab_size = 10000    # 어휘 사전의 크기입니다(10,000개의 단어)\n",
    "word_vector_dim =16  # 워드 벡터의 차원 수 (변경 가능한 하이퍼파라미터)\n",
    "\n",
    "# model 설계 - 딥러닝 모델 코드를 직접 작성해 주세요.\n",
    "model = tf.keras.Sequential()\n",
    "model = tf.keras.Sequential()\n",
    "model.add(tf.keras.layers.Embedding(vocab_size, word_vector_dim, input_shape=(None,)))\n",
    "model.add(tf.keras.layers.GlobalMaxPooling1D())\n",
    "model.add(tf.keras.layers.Dense(8, activation='relu'))\n",
    "model.add(tf.keras.layers.Dense(1, activation='sigmoid'))  # 최종 출력은 긍정/부정을 나타내는 1dim 입니다.\n",
    "\n",
    "model.summary()"
   ]
  },
  {
   "cell_type": "code",
   "execution_count": 41,
   "id": "1ba17aa3",
   "metadata": {
    "scrolled": false
   },
   "outputs": [
    {
     "name": "stdout",
     "output_type": "stream",
     "text": [
      "Epoch 1/5\n",
      "235/235 [==============================] - 1s 4ms/step - loss: 0.5940 - accuracy: 0.7345 - val_loss: 0.4355 - val_accuracy: 0.8206\n",
      "Epoch 2/5\n",
      "235/235 [==============================] - 1s 3ms/step - loss: 0.3773 - accuracy: 0.8404 - val_loss: 0.3612 - val_accuracy: 0.8411\n",
      "Epoch 3/5\n",
      "235/235 [==============================] - 1s 3ms/step - loss: 0.3240 - accuracy: 0.8636 - val_loss: 0.3493 - val_accuracy: 0.8473\n",
      "Epoch 4/5\n",
      "235/235 [==============================] - 1s 4ms/step - loss: 0.2958 - accuracy: 0.8777 - val_loss: 0.3472 - val_accuracy: 0.8492\n",
      "Epoch 5/5\n",
      "235/235 [==============================] - 1s 4ms/step - loss: 0.2748 - accuracy: 0.8878 - val_loss: 0.3506 - val_accuracy: 0.8499\n"
     ]
    }
   ],
   "source": [
    "model.compile(optimizer='adam',\n",
    "              loss='binary_crossentropy',\n",
    "              metrics=['accuracy'])\n",
    "              \n",
    "epochs=5\n",
    "\n",
    "history = model.fit(X_train,\n",
    "                    y_train,\n",
    "                    epochs=epochs,\n",
    "                    batch_size=512,\n",
    "                    validation_data=(X_val, y_val),\n",
    "                    verbose=1)"
   ]
  },
  {
   "cell_type": "code",
   "execution_count": 42,
   "id": "fabda36a",
   "metadata": {},
   "outputs": [
    {
     "name": "stdout",
     "output_type": "stream",
     "text": [
      "1563/1563 - 2s - loss: 0.3591 - accuracy: 0.8466\n",
      "[0.3591291010379791, 0.8465508222579956]\n"
     ]
    }
   ],
   "source": [
    "results = model.evaluate(X_test,  y_test, verbose=2)\n",
    "\n",
    "print(results)"
   ]
  },
  {
   "cell_type": "code",
   "execution_count": 43,
   "id": "7cacba8f",
   "metadata": {},
   "outputs": [
    {
     "name": "stdout",
     "output_type": "stream",
     "text": [
      "dict_keys(['loss', 'accuracy', 'val_loss', 'val_accuracy'])\n"
     ]
    },
    {
     "data": {
      "image/png": "[encoded data removed]",
      "text/plain": [
       "<Figure size 432x288 with 1 Axes>"
      ]
     },
     "metadata": {
      "needs_background": "light"
     },
     "output_type": "display_data"
    }
   ],
   "source": [
    "history_dict = history.history\n",
    "print(history_dict.keys()) # epoch에 따른 그래프를 그려볼 수 있는 항목들\n",
    "\n",
    "import matplotlib.pyplot as plt\n",
    "\n",
    "acc = history_dict['accuracy']\n",
    "val_acc = history_dict['val_accuracy']\n",
    "loss = history_dict['loss']\n",
    "val_loss = history_dict['val_loss']\n",
    "\n",
    "epochs = range(1, len(acc) + 1)\n",
    "\n",
    "# \"bo\"는 \"파란색 점\"입니다\n",
    "plt.plot(epochs, loss, 'bo', label='Training loss')\n",
    "# b는 \"파란 실선\"입니다\n",
    "plt.plot(epochs, val_loss, 'b', label='Validation loss')\n",
    "plt.title('Training and validation loss')\n",
    "plt.xlabel('Epochs')\n",
    "plt.ylabel('Loss')\n",
    "plt.legend()\n",
    "\n",
    "plt.show()"
   ]
  },
  {
   "cell_type": "code",
   "execution_count": 44,
   "id": "4e59c883",
   "metadata": {
    "scrolled": false
   },
   "outputs": [
    {
     "data": {
      "image/png": "[encoded data removed]",
      "text/plain": [
       "<Figure size 432x288 with 1 Axes>"
      ]
     },
     "metadata": {
      "needs_background": "light"
     },
     "output_type": "display_data"
    }
   ],
   "source": [
    "plt.clf()   # 그림을 초기화합니다\n",
    "\n",
    "plt.plot(epochs, acc, 'bo', label='Training acc')\n",
    "plt.plot(epochs, val_acc, 'b', label='Validation acc')\n",
    "plt.title('Training and validation accuracy')\n",
    "plt.xlabel('Epochs')\n",
    "plt.ylabel('Accuracy')\n",
    "plt.legend()\n",
    "\n",
    "plt.show()"
   ]
  },
  {
   "cell_type": "markdown",
   "id": "0521c04a",
   "metadata": {},
   "source": [
    "3번째 모델은 1-D CNN모델에 비해서는 성능이 괜찮은 것 같다. 하이퍼 파라미터를 조정해보자."
   ]
  },
  {
   "cell_type": "markdown",
   "id": "a691cad8",
   "metadata": {},
   "source": [
    "___"
   ]
  },
  {
   "cell_type": "markdown",
   "id": "716748d9",
   "metadata": {},
   "source": [
    "### 5. 한국어 `Word2Vec` 임베딩 활용하여 성능 개선"
   ]
  },
  {
   "cell_type": "markdown",
   "id": "4c00bac9",
   "metadata": {},
   "source": [
    "세 가지 모델들의 하이퍼파라미터 튜닝만으로는 성능개선에 한계가 있는 것 같다. `Word2Vec` 임베딩을 활용하여 성능 개선을 노려보자.\n",
    "\n",
    "`gensim` 버전이 3.x.x 이하여야 오류가 나지 않는다고 하니 버전을 먼저 확인해보자."
   ]
  },
  {
   "cell_type": "code",
   "execution_count": 45,
   "id": "ea03d131",
   "metadata": {
    "scrolled": true
   },
   "outputs": [
    {
     "name": "stdout",
     "output_type": "stream",
     "text": [
      "3.8.3\n"
     ]
    }
   ],
   "source": [
    "from importlib_metadata import version\n",
    "print(version('gensim'))"
   ]
  },
  {
   "cell_type": "markdown",
   "id": "27a73238",
   "metadata": {},
   "source": [
    "`4.1.2` 버전이라고 한다.\n",
    "\n",
    "Cloud Shell에서\n",
    "\n",
    "```\n",
    "pip uninstal gensim\n",
    "pip install gensim==3.8.3.\n",
    "```\n",
    "해준다."
   ]
  },
  {
   "cell_type": "code",
   "execution_count": 46,
   "id": "129539aa",
   "metadata": {},
   "outputs": [
    {
     "name": "stdout",
     "output_type": "stream",
     "text": [
      "3.8.3\n"
     ]
    }
   ],
   "source": [
    "from importlib_metadata import version\n",
    "print(version('gensim'))"
   ]
  },
  {
   "cell_type": "markdown",
   "id": "5fbec264",
   "metadata": {},
   "source": [
    "`3.8.3`으로 잘 다운그레이드되었다!"
   ]
  },
  {
   "cell_type": "markdown",
   "id": "c274e36c",
   "metadata": {},
   "source": [
    "___"
   ]
  },
  {
   "cell_type": "markdown",
   "id": "403b0f0c",
   "metadata": {},
   "source": [
    "이제 다운받은 한국어 `Word2Vec` 임베딩 모델을 가져와 준다."
   ]
  },
  {
   "cell_type": "code",
   "execution_count": 47,
   "id": "2643ef5a",
   "metadata": {},
   "outputs": [],
   "source": [
    "from gensim.models import Word2Vec\n",
    "\n",
    "word2vec_path = os.getenv('HOME')+'/aiffel/sentiment_classification/data/ko.bin'\n",
    "word2vec = Word2Vec.load(word2vec_path)"
   ]
  },
  {
   "cell_type": "code",
   "execution_count": 48,
   "id": "dc7c1316",
   "metadata": {},
   "outputs": [
    {
     "data": {
      "text/plain": [
       "[('슬픔', 0.7216662764549255),\n",
       " ('행복', 0.6759077310562134),\n",
       " ('절망', 0.6468985080718994),\n",
       " ('기쁨', 0.6458414196968079),\n",
       " ('이별', 0.6334798336029053),\n",
       " ('추억', 0.6320937275886536),\n",
       " ('인생', 0.6216273307800293),\n",
       " ('애정', 0.6206069588661194),\n",
       " ('연인', 0.6186063289642334),\n",
       " ('유혹', 0.5965287685394287)]"
      ]
     },
     "execution_count": 48,
     "metadata": {},
     "output_type": "execute_result"
    }
   ],
   "source": [
    "word2vec.wv.similar_by_word(\"사랑\")"
   ]
  },
  {
   "cell_type": "markdown",
   "id": "15a7145f",
   "metadata": {},
   "source": [
    "\"사랑\"과 가장 유사한 단어가 \"슬픔\"이라니! 🥺"
   ]
  },
  {
   "cell_type": "code",
   "execution_count": 49,
   "id": "5774cd37",
   "metadata": {},
   "outputs": [
    {
     "data": {
      "text/plain": [
       "[('컴퓨팅', 0.6520194411277771),\n",
       " ('가상현실', 0.6393702030181885),\n",
       " ('심리학', 0.63037109375),\n",
       " ('모델링', 0.625065267086029),\n",
       " ('신경망', 0.6200424432754517),\n",
       " ('로봇', 0.6109743118286133),\n",
       " ('시뮬레이션', 0.6101070642471313),\n",
       " ('지능', 0.6092983484268188),\n",
       " ('기술', 0.6087720990180969),\n",
       " ('기술인', 0.5957075953483582)]"
      ]
     },
     "execution_count": 49,
     "metadata": {},
     "output_type": "execute_result"
    }
   ],
   "source": [
    "word2vec.wv.similar_by_word(\"인공지능\")"
   ]
  },
  {
   "cell_type": "code",
   "execution_count": 50,
   "id": "f7c3f751",
   "metadata": {},
   "outputs": [
    {
     "data": {
      "text/plain": [
       "[('다큐멘터리', 0.7265259027481079),\n",
       " ('영화사', 0.715214192867279),\n",
       " ('드라마', 0.705294132232666),\n",
       " ('뮤지컬', 0.6947016716003418),\n",
       " ('코미디', 0.69093257188797),\n",
       " ('영화인', 0.6702202558517456),\n",
       " ('서부극', 0.6571458578109741),\n",
       " ('스릴러', 0.6533164978027344),\n",
       " ('로맨스', 0.6428799629211426),\n",
       " ('애니메이션', 0.6425570249557495)]"
      ]
     },
     "execution_count": 50,
     "metadata": {},
     "output_type": "execute_result"
    }
   ],
   "source": [
    "word2vec.wv.similar_by_word(\"영화\")"
   ]
  },
  {
   "cell_type": "markdown",
   "id": "4f9ea03c",
   "metadata": {},
   "source": [
    "`Word2Vec`은 한국어 버전도 굉장히 성능이 좋다!"
   ]
  },
  {
   "cell_type": "markdown",
   "id": "c632bccd",
   "metadata": {},
   "source": [
    "___\n",
    "\n",
    "### 이제 `Word2Vec`을 이용하여 모델을 새로 만들고 학습시킨다. 가장 성능이 좋았던 RNN모델로 만들어보자."
   ]
  },
  {
   "cell_type": "code",
   "execution_count": 51,
   "id": "5eeda729",
   "metadata": {},
   "outputs": [
    {
     "name": "stderr",
     "output_type": "stream",
     "text": [
      "/tmp/ipykernel_5924/1730871920.py:7: DeprecationWarning: Call to deprecated `__contains__` (Method will be removed in 4.0.0, use self.wv.__contains__() instead).\n",
      "  if index_to_word[i] in word2vec:\n",
      "/tmp/ipykernel_5924/1730871920.py:8: DeprecationWarning: Call to deprecated `__getitem__` (Method will be removed in 4.0.0, use self.wv.__getitem__() instead).\n",
      "  embedding_matrix[i] = word2vec[index_to_word[i]]\n"
     ]
    }
   ],
   "source": [
    "vocab_size = 10000    # 어휘 사전의 크기입니다(10,000개의 단어)\n",
    "word_vector_dim = 200  # 워드 벡터의 차원수\n",
    "embedding_matrix = np.random.rand(vocab_size, word_vector_dim)\n",
    "\n",
    "# embedding_matrix에 Word2Vec 워드 벡터를 단어 하나씩마다 차례차례 카피한다.\n",
    "for i in range(4,vocab_size):\n",
    "    if index_to_word[i] in word2vec:\n",
    "        embedding_matrix[i] = word2vec[index_to_word[i]]"
   ]
  },
  {
   "cell_type": "code",
   "execution_count": 64,
   "id": "2e0bd3fc",
   "metadata": {},
   "outputs": [
    {
     "name": "stdout",
     "output_type": "stream",
     "text": [
      "Model: \"sequential_13\"\n",
      "_________________________________________________________________\n",
      "Layer (type)                 Output Shape              Param #   \n",
      "=================================================================\n",
      "embedding_11 (Embedding)     (None, 49, 200)           2000000   \n",
      "_________________________________________________________________\n",
      "lstm_5 (LSTM)                (None, 128)               168448    \n",
      "_________________________________________________________________\n",
      "dense_22 (Dense)             (None, 16)                2064      \n",
      "_________________________________________________________________\n",
      "dense_23 (Dense)             (None, 1)                 17        \n",
      "=================================================================\n",
      "Total params: 2,170,529\n",
      "Trainable params: 2,170,529\n",
      "Non-trainable params: 0\n",
      "_________________________________________________________________\n"
     ]
    }
   ],
   "source": [
    "from tensorflow.keras.initializers import Constant\n",
    "\n",
    "vocab_size = 10000    # 어휘 사전의 크기입니다(10,000개의 단어)\n",
    "word_vector_dim = 200  # 워드 벡터의 차원 수 \n",
    "\n",
    "# 모델 구성\n",
    "model = tf.keras.Sequential()\n",
    "model.add(tf.keras.layers.Embedding(vocab_size, \n",
    "                                 word_vector_dim, \n",
    "                                 embeddings_initializer=Constant(embedding_matrix),  # 카피한 임베딩을 여기서 활용\n",
    "                                 input_length=maxlen, \n",
    "                                 trainable=True))   # trainable을 True로 주면 Fine-tuning\n",
    "model.add(keras.layers.LSTM(128))\n",
    "model.add(keras.layers.Dense(16, activation='relu'))\n",
    "model.add(keras.layers.Dense(1, activation='sigmoid'))  # 최종 출력은 긍정/부정을 나타내는 1dim 입니다.\n",
    "\n",
    "model.summary()"
   ]
  },
  {
   "cell_type": "code",
   "execution_count": 65,
   "id": "c786d6a5",
   "metadata": {
    "scrolled": true
   },
   "outputs": [
    {
     "name": "stdout",
     "output_type": "stream",
     "text": [
      "Epoch 1/10\n",
      "235/235 [==============================] - 5s 18ms/step - loss: 0.4512 - accuracy: 0.7821 - val_loss: 0.3653 - val_accuracy: 0.8376\n",
      "Epoch 2/10\n",
      "235/235 [==============================] - 4s 16ms/step - loss: 0.3207 - accuracy: 0.8621 - val_loss: 0.3278 - val_accuracy: 0.8547\n",
      "Epoch 3/10\n",
      "235/235 [==============================] - 4s 16ms/step - loss: 0.2794 - accuracy: 0.8824 - val_loss: 0.3168 - val_accuracy: 0.8632\n",
      "Epoch 4/10\n",
      "235/235 [==============================] - 4s 16ms/step - loss: 0.2498 - accuracy: 0.8967 - val_loss: 0.3204 - val_accuracy: 0.8672\n",
      "Epoch 5/10\n",
      "235/235 [==============================] - 4s 16ms/step - loss: 0.2245 - accuracy: 0.9091 - val_loss: 0.3179 - val_accuracy: 0.8683\n",
      "Epoch 6/10\n",
      "235/235 [==============================] - 4s 16ms/step - loss: 0.1996 - accuracy: 0.9201 - val_loss: 0.3247 - val_accuracy: 0.8672\n",
      "Epoch 7/10\n",
      "235/235 [==============================] - 4s 16ms/step - loss: 0.1743 - accuracy: 0.9317 - val_loss: 0.3553 - val_accuracy: 0.8649\n",
      "Epoch 8/10\n",
      "235/235 [==============================] - 4s 16ms/step - loss: 0.1519 - accuracy: 0.9419 - val_loss: 0.3763 - val_accuracy: 0.8624\n",
      "Epoch 9/10\n",
      "235/235 [==============================] - 4s 16ms/step - loss: 0.1276 - accuracy: 0.9521 - val_loss: 0.4113 - val_accuracy: 0.8579\n",
      "Epoch 10/10\n",
      "235/235 [==============================] - 4s 16ms/step - loss: 0.1069 - accuracy: 0.9599 - val_loss: 0.4738 - val_accuracy: 0.8616\n"
     ]
    }
   ],
   "source": [
    "# 학습의 진행\n",
    "model.compile(optimizer='adam',\n",
    "              loss='binary_crossentropy',\n",
    "              metrics=['accuracy'])\n",
    "              \n",
    "epochs=10  # 몇 epoch를 훈련하면 좋을지 결과를 보면서 바꾸어 봅시다. \n",
    "\n",
    "history = model.fit(X_train,\n",
    "                    y_train,\n",
    "                    epochs=epochs,\n",
    "                    batch_size=512,\n",
    "                    validation_data=(X_val, y_val),\n",
    "                    verbose=1)"
   ]
  },
  {
   "cell_type": "code",
   "execution_count": 66,
   "id": "dfbf7ccd",
   "metadata": {},
   "outputs": [
    {
     "name": "stdout",
     "output_type": "stream",
     "text": [
      "1563/1563 - 4s - loss: 0.4856 - accuracy: 0.8571\n",
      "[0.4856402277946472, 0.8571314215660095]\n"
     ]
    }
   ],
   "source": [
    "# 테스트셋을 통한 모델 평가\n",
    "results = model.evaluate(X_test,  y_test, verbose=2)\n",
    "\n",
    "print(results)"
   ]
  },
  {
   "cell_type": "markdown",
   "id": "ce2b8269",
   "metadata": {},
   "source": [
    "## 정확도 85%를 넘겼다!!!! 🙊"
   ]
  },
  {
   "cell_type": "code",
   "execution_count": 74,
   "id": "a27774f3",
   "metadata": {},
   "outputs": [
    {
     "name": "stdout",
     "output_type": "stream",
     "text": [
      "dict_keys(['loss', 'accuracy', 'val_loss', 'val_accuracy'])\n"
     ]
    },
    {
     "data": {
      "image/png": "[encoded data removed]",
      "text/plain": [
       "<Figure size 432x288 with 1 Axes>"
      ]
     },
     "metadata": {
      "needs_background": "light"
     },
     "output_type": "display_data"
    }
   ],
   "source": [
    "history_dict = history.history\n",
    "print(history_dict.keys()) # epoch에 따른 그래프를 그려볼 수 있는 항목들\n",
    "\n",
    "import matplotlib.pyplot as plt\n",
    "\n",
    "acc = history_dict['accuracy']\n",
    "val_acc = history_dict['val_accuracy']\n",
    "loss = history_dict['loss']\n",
    "val_loss = history_dict['val_loss']\n",
    "\n",
    "epochs = range(1, len(acc) + 1)\n",
    "\n",
    "# \"bo\"는 \"파란색 점\"입니다\n",
    "plt.plot(epochs, loss, 'bo', label='Training loss')\n",
    "# b는 \"파란 실선\"입니다\n",
    "plt.plot(epochs, val_loss, 'b', label='Validation loss')\n",
    "plt.title('Training and validation loss')\n",
    "plt.xlabel('Epochs')\n",
    "plt.ylabel('Loss')\n",
    "plt.legend()\n",
    "\n",
    "plt.show()"
   ]
  },
  {
   "cell_type": "markdown",
   "id": "56b6f406",
   "metadata": {},
   "source": [
    "과적합된 것 같으니 에포크를 조금 줄여서 다시 평가해보자."
   ]
  },
  {
   "cell_type": "markdown",
   "id": "7d61eeb5",
   "metadata": {},
   "source": [
    "___"
   ]
  },
  {
   "cell_type": "markdown",
   "id": "fb04fb68",
   "metadata": {},
   "source": [
    "### epoch=3 일 때"
   ]
  },
  {
   "cell_type": "code",
   "execution_count": 72,
   "id": "ca7c4218",
   "metadata": {
    "scrolled": true
   },
   "outputs": [
    {
     "name": "stdout",
     "output_type": "stream",
     "text": [
      "Epoch 1/3\n",
      "235/235 [==============================] - 5s 18ms/step - loss: 0.0471 - accuracy: 0.9832 - val_loss: 0.7537 - val_accuracy: 0.8571\n",
      "Epoch 2/3\n",
      "235/235 [==============================] - 4s 16ms/step - loss: 0.0397 - accuracy: 0.9855 - val_loss: 0.7614 - val_accuracy: 0.8532\n",
      "Epoch 3/3\n",
      "235/235 [==============================] - 4s 16ms/step - loss: 0.0424 - accuracy: 0.9842 - val_loss: 0.7792 - val_accuracy: 0.8561\n"
     ]
    }
   ],
   "source": [
    "# 학습의 진행\n",
    "model.compile(optimizer='adam',\n",
    "              loss='binary_crossentropy',\n",
    "              metrics=['accuracy'])\n",
    "              \n",
    "epochs=3  # 몇 epoch를 훈련하면 좋을지 결과를 보면서 바꾸어 봅시다. \n",
    "\n",
    "history = model.fit(X_train,\n",
    "                    y_train,\n",
    "                    epochs=epochs,\n",
    "                    batch_size=512,\n",
    "                    validation_data=(X_val, y_val),\n",
    "                    verbose=1)"
   ]
  },
  {
   "cell_type": "code",
   "execution_count": 73,
   "id": "0858bde5",
   "metadata": {},
   "outputs": [
    {
     "name": "stdout",
     "output_type": "stream",
     "text": [
      "1563/1563 - 4s - loss: 0.8040 - accuracy: 0.8545\n",
      "[0.8039898872375488, 0.8544712662696838]\n"
     ]
    }
   ],
   "source": [
    "# 테스트셋을 통한 모델 평가\n",
    "results = model.evaluate(X_test,  y_test, verbose=2)\n",
    "\n",
    "print(results)"
   ]
  },
  {
   "cell_type": "markdown",
   "id": "dc744667",
   "metadata": {},
   "source": [
    "### 별 차이 없다. 이정도가 한계인듯!\n",
    "\n",
    "## `최종 정확도=0.8571`"
   ]
  },
  {
   "cell_type": "markdown",
   "id": "f4a4c447",
   "metadata": {},
   "source": [
    "___"
   ]
  },
  {
   "cell_type": "markdown",
   "id": "3fa84189",
   "metadata": {},
   "source": [
    "## 🤔회고\n",
    "\n",
    "1) 컴퓨터가 이렇게 감정을 잘 읽어내다니? **인간인 나보다 맥락파악 잘하는 것 같다.**\n",
    "\n",
    "2) `load_data` 함수를 구현하는 것이 제일 어려웠다. 구글링해서 어찌 저찌 해결하긴 했지만 모든 코드를 다 이해하지는 못했다. \n",
    "\n",
    "3) 패키지의 버전 문제, GPU의 메모리 문제 등으로 에러가 나서 시간이 오래 소요됐는데, 만약 내가 로컬에서 개인적인 프로젝트를 하려고 하면 이런 에러를 더 자주 맞닥뜨릴 것 같다. 다행히도 대부분의 에러는 구글링으로 해결이 가능했다. 부딪혀서 해결하는 훈련이 중요한 것 같다.\n",
    "\n"
   ]
  },
  {
   "cell_type": "code",
   "execution_count": null,
   "id": "6c9ef943",
   "metadata": {},
   "outputs": [],
   "source": []
  }
 ],
 "metadata": {
  "kernelspec": {
   "display_name": "Python 3 (ipykernel)",
   "language": "python",
   "name": "python3"
  },
  "language_info": {
   "codemirror_mode": {
    "name": "ipython",
    "version": 3
   },
   "file_extension": ".py",
   "mimetype": "text/x-python",
   "name": "python",
   "nbconvert_exporter": "python",
   "pygments_lexer": "ipython3",
   "version": "3.9.7"
  }
 },
 "nbformat": 4,
 "nbformat_minor": 5
}
